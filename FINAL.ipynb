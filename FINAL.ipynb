{
 "cells": [
  {
   "cell_type": "code",
   "execution_count": 1,
   "metadata": {
    "scrolled": true
   },
   "outputs": [
    {
     "name": "stdout",
     "output_type": "stream",
     "text": [
      "------- Task A1 -------\n",
      "preprocessing images\n"
     ]
    },
    {
     "name": "stderr",
     "output_type": "stream",
     "text": [
      "100%|██████████| 5000/5000 [01:52<00:00, 44.49it/s]\n",
      "C:\\Users\\romeo\\Desktop\\romanos\\codebase\\functions\\utils.py:159: UserWarning: provided folder does not contain images\n",
      "  warnings.warn('provided folder does not contain images')\n",
      "0it [00:00, ?it/s]\n"
     ]
    },
    {
     "name": "stdout",
     "output_type": "stream",
     "text": [
      "extracting features\n",
      "reading dataset\n"
     ]
    },
    {
     "ename": "IndexError",
     "evalue": "list index out of range",
     "output_type": "error",
     "traceback": [
      "\u001b[1;31m---------------------------------------------------------------------------\u001b[0m",
      "\u001b[1;31mIndexError\u001b[0m                                Traceback (most recent call last)",
      "\u001b[1;32m<ipython-input-1-00c46623285a>\u001b[0m in \u001b[0;36m<module>\u001b[1;34m\u001b[0m\n\u001b[0;32m     12\u001b[0m \u001b[0mdb_celeba_gender\u001b[0m\u001b[1;33m.\u001b[0m\u001b[0mread_labels\u001b[0m\u001b[1;33m(\u001b[0m\u001b[1;33m)\u001b[0m\u001b[1;33m\u001b[0m\u001b[1;33m\u001b[0m\u001b[0m\n\u001b[0;32m     13\u001b[0m \u001b[0mall_features\u001b[0m \u001b[1;33m=\u001b[0m \u001b[0mdb_celeba_gender\u001b[0m\u001b[1;33m.\u001b[0m\u001b[0mread_database\u001b[0m\u001b[1;33m(\u001b[0m\u001b[1;33m)\u001b[0m\u001b[1;33m\u001b[0m\u001b[1;33m\u001b[0m\u001b[0m\n\u001b[1;32m---> 14\u001b[1;33m \u001b[0mtask_A1\u001b[0m \u001b[1;33m=\u001b[0m \u001b[0mmodel_A1\u001b[0m\u001b[1;33m(\u001b[0m\u001b[0mall_features\u001b[0m\u001b[1;33m,\u001b[0m \u001b[0mdb_celeba_gender\u001b[0m\u001b[1;33m.\u001b[0m\u001b[0mlabels\u001b[0m\u001b[1;33m)\u001b[0m\u001b[1;33m\u001b[0m\u001b[1;33m\u001b[0m\u001b[0m\n\u001b[0m\u001b[0;32m     15\u001b[0m \u001b[0mtask_A1\u001b[0m\u001b[1;33m.\u001b[0m\u001b[0mtrain_model\u001b[0m\u001b[1;33m(\u001b[0m\u001b[0mtask_A1\u001b[0m\u001b[1;33m.\u001b[0m\u001b[0mtrain_set\u001b[0m\u001b[1;33m,\u001b[0m \u001b[0mtask_A1\u001b[0m\u001b[1;33m.\u001b[0m\u001b[0mtrain_lbls\u001b[0m\u001b[1;33m)\u001b[0m\u001b[1;33m\u001b[0m\u001b[1;33m\u001b[0m\u001b[0m\n\u001b[0;32m     16\u001b[0m \u001b[0mtask_A1\u001b[0m\u001b[1;33m.\u001b[0m\u001b[0mtest_model\u001b[0m\u001b[1;33m(\u001b[0m\u001b[0mtask_A1\u001b[0m\u001b[1;33m.\u001b[0m\u001b[0mtest_set\u001b[0m\u001b[1;33m,\u001b[0m \u001b[0mtask_A1\u001b[0m\u001b[1;33m.\u001b[0m\u001b[0mtest_lbls\u001b[0m\u001b[1;33m)\u001b[0m\u001b[1;33m\u001b[0m\u001b[1;33m\u001b[0m\u001b[0m\n",
      "\u001b[1;32m~\\Desktop\\romanos\\codebase\\A1\\gender_classification.py\u001b[0m in \u001b[0;36m__init__\u001b[1;34m(self, features, labels, test_size)\u001b[0m\n\u001b[0;32m     12\u001b[0m     \u001b[1;32mdef\u001b[0m \u001b[0m__init__\u001b[0m\u001b[1;33m(\u001b[0m\u001b[0mself\u001b[0m\u001b[1;33m,\u001b[0m \u001b[0mfeatures\u001b[0m\u001b[1;33m,\u001b[0m \u001b[0mlabels\u001b[0m\u001b[1;33m,\u001b[0m \u001b[0mtest_size\u001b[0m\u001b[1;33m=\u001b[0m\u001b[1;36m0.3\u001b[0m\u001b[1;33m)\u001b[0m\u001b[1;33m:\u001b[0m\u001b[1;33m\u001b[0m\u001b[1;33m\u001b[0m\u001b[0m\n\u001b[0;32m     13\u001b[0m         \u001b[0mself\u001b[0m\u001b[1;33m.\u001b[0m\u001b[0mtest_size\u001b[0m \u001b[1;33m=\u001b[0m \u001b[0mtest_size\u001b[0m\u001b[1;33m\u001b[0m\u001b[1;33m\u001b[0m\u001b[0m\n\u001b[1;32m---> 14\u001b[1;33m         \u001b[0mself\u001b[0m\u001b[1;33m.\u001b[0m\u001b[0mdataset\u001b[0m\u001b[1;33m,\u001b[0m \u001b[0mself\u001b[0m\u001b[1;33m.\u001b[0m\u001b[0mlabels\u001b[0m \u001b[1;33m=\u001b[0m \u001b[0mself\u001b[0m\u001b[1;33m.\u001b[0m\u001b[0mcreate_dataset\u001b[0m\u001b[1;33m(\u001b[0m\u001b[0mfeatures\u001b[0m\u001b[1;33m,\u001b[0m \u001b[0mlabels\u001b[0m\u001b[1;33m)\u001b[0m\u001b[1;33m\u001b[0m\u001b[1;33m\u001b[0m\u001b[0m\n\u001b[0m\u001b[0;32m     15\u001b[0m \u001b[1;33m\u001b[0m\u001b[0m\n\u001b[0;32m     16\u001b[0m         \u001b[0mself\u001b[0m\u001b[1;33m.\u001b[0m\u001b[0mtrain_set\u001b[0m\u001b[1;33m,\u001b[0m \u001b[0mself\u001b[0m\u001b[1;33m.\u001b[0m\u001b[0mtest_set\u001b[0m\u001b[1;33m,\u001b[0m \u001b[0mself\u001b[0m\u001b[1;33m.\u001b[0m\u001b[0mtrain_lbls\u001b[0m\u001b[1;33m,\u001b[0m \u001b[0mself\u001b[0m\u001b[1;33m.\u001b[0m\u001b[0mtest_lbls\u001b[0m \u001b[1;33m=\u001b[0m\u001b[0;31m \u001b[0m\u001b[0;31m\\\u001b[0m\u001b[1;33m\u001b[0m\u001b[1;33m\u001b[0m\u001b[0m\n",
      "\u001b[1;32m~\\Desktop\\romanos\\codebase\\A1\\gender_classification.py\u001b[0m in \u001b[0;36mcreate_dataset\u001b[1;34m(db_features, db_labels)\u001b[0m\n\u001b[0;32m     25\u001b[0m     \u001b[1;32mdef\u001b[0m \u001b[0mcreate_dataset\u001b[0m\u001b[1;33m(\u001b[0m\u001b[0mdb_features\u001b[0m\u001b[1;33m,\u001b[0m \u001b[0mdb_labels\u001b[0m\u001b[1;33m)\u001b[0m\u001b[1;33m:\u001b[0m\u001b[1;33m\u001b[0m\u001b[1;33m\u001b[0m\u001b[0m\n\u001b[0;32m     26\u001b[0m         \u001b[1;34m\"\"\"Function that creates the dataset and corresponding labels\"\"\"\u001b[0m\u001b[1;33m\u001b[0m\u001b[1;33m\u001b[0m\u001b[0m\n\u001b[1;32m---> 27\u001b[1;33m         \u001b[0mX\u001b[0m \u001b[1;33m=\u001b[0m \u001b[0mnp\u001b[0m\u001b[1;33m.\u001b[0m\u001b[0mzeros\u001b[0m\u001b[1;33m(\u001b[0m\u001b[1;33m(\u001b[0m\u001b[0mlen\u001b[0m\u001b[1;33m(\u001b[0m\u001b[0mdb_features\u001b[0m\u001b[1;33m)\u001b[0m\u001b[1;33m,\u001b[0m \u001b[0mdb_features\u001b[0m\u001b[1;33m[\u001b[0m\u001b[1;36m0\u001b[0m\u001b[1;33m]\u001b[0m\u001b[1;33m.\u001b[0m\u001b[0mshape\u001b[0m\u001b[1;33m[\u001b[0m\u001b[1;36m0\u001b[0m\u001b[1;33m]\u001b[0m\u001b[1;33m)\u001b[0m\u001b[1;33m)\u001b[0m\u001b[1;33m\u001b[0m\u001b[1;33m\u001b[0m\u001b[0m\n\u001b[0m\u001b[0;32m     28\u001b[0m         \u001b[0my\u001b[0m \u001b[1;33m=\u001b[0m \u001b[0mnp\u001b[0m\u001b[1;33m.\u001b[0m\u001b[0mzeros\u001b[0m\u001b[1;33m(\u001b[0m\u001b[1;33m(\u001b[0m\u001b[0mlen\u001b[0m\u001b[1;33m(\u001b[0m\u001b[0mdb_features\u001b[0m\u001b[1;33m)\u001b[0m\u001b[1;33m,\u001b[0m \u001b[1;36m1\u001b[0m\u001b[1;33m)\u001b[0m\u001b[1;33m)\u001b[0m\u001b[1;33m\u001b[0m\u001b[1;33m\u001b[0m\u001b[0m\n\u001b[0;32m     29\u001b[0m \u001b[1;33m\u001b[0m\u001b[0m\n",
      "\u001b[1;31mIndexError\u001b[0m: list index out of range"
     ]
    }
   ],
   "source": [
    "from functions.Database import Database\n",
    "from A1.gender_classification import model_A1\n",
    "from A2.is_smiling_classification import model_A2\n",
    "from B1.shape_classification import model_B1\n",
    "from B2.eye_colour_classification import model_B2\n",
    "# ======================================================================================================================\n",
    "# Task A1\n",
    "print('------- Task A1 -------')\n",
    "db_celeba_gender = Database('celeba', 'gender')\n",
    "db_celeba_gender.preprocess_images()\n",
    "db_celeba_gender.extract_features()\n",
    "db_celeba_gender.read_labels()\n",
    "all_features = db_celeba_gender.read_database()\n",
    "task_A1 = model_A1(all_features, db_celeba_gender.labels)\n",
    "task_A1.train_model(task_A1.train_set, task_A1.train_lbls)\n",
    "task_A1.test_model(task_A1.test_set, task_A1.test_lbls)\n",
    "\n",
    "del db_celeba_gender, all_features\n",
    "\n",
    "# =============================================================================\n",
    "# Task A2\n",
    "print('------- Task A2 -------')\n",
    "db_celeba_smiling = Database('celeba', 'smiling', area_extract='mouth')\n",
    "db_celeba_smiling.preprocess_images()\n",
    "db_celeba_smiling.extract_features()\n",
    "db_celeba_smiling.read_labels()\n",
    "all_features = db_celeba_smiling.read_database()\n",
    "task_A2 = model_A2(all_features, db_celeba_smiling.labels)\n",
    "task_A2.train_model(task_A2.train_set, task_A2.train_lbls)\n",
    "task_A2.test_model(task_A2.test_set, task_A2.test_lbls)\n",
    "\n",
    "del db_celeba_smiling, all_features\n",
    "\n",
    "# =============================================================================\n",
    "# Task B1\n",
    "print('------- Task B1 -------')\n",
    "db_cartoon_shape = Database('cartoon_set', 'face_shape')\n",
    "db_cartoon_shape.preprocess_images()\n",
    "db_cartoon_shape.extract_features()\n",
    "db_cartoon_shape.read_labels()\n",
    "all_features = db_cartoon_shape.read_database()\n",
    "task_B1 = model_B1(all_features, db_cartoon_shape.labels)\n",
    "task_B1.train_model(task_B1.train_set, task_B1.train_lbls)\n",
    "task_B1.test_model(task_B1.test_set, task_B1.test_lbls)\n",
    "\n",
    "del db_cartoon_shape, all_features\n",
    "\n",
    "# =============================================================================\n",
    "# Task B2\n",
    "print('------- Task B2 -------')\n",
    "db_cartoon_eye_colour = Database('cartoon_set', 'eye_colour',\n",
    "                                 area_extract='eyes', feature_extract='rgb')\n",
    "db_cartoon_eye_colour.preprocess_images()\n",
    "db_cartoon_eye_colour.extract_features()\n",
    "db_cartoon_eye_colour.read_labels()\n",
    "all_features = db_cartoon_eye_colour.read_database()\n",
    "task_B2 = model_B2(all_features, db_cartoon_eye_colour.labels)\n",
    "task_B2.train_model(task_B2.train_set, task_B2.train_lbls)\n",
    "task_B2.test_model(task_B2.test_set, task_B2.test_lbls)\n",
    "\n",
    "del db_cartoon_eye_colour, all_features\n",
    "\n",
    "# =============================================================================\n",
    "\n",
    "print('TA1: train {}, test {}; TA2: train {}, test {}; TB1: train {}, '\n",
    "      'test {}; TB2: train {}, test {};'.format(task_A1.train_accuracy,\n",
    "                                                task_A1.test_accuracy,\n",
    "                                                task_A2.train_accuracy,\n",
    "                                                task_A2.test_accuracy,\n",
    "                                                task_B1.train_accuracy,\n",
    "                                                task_B1.test_accuracy,\n",
    "                                                task_B2.train_accuracy,\n",
    "                                                task_B2.test_accuracy))\n"
   ]
  },
  {
   "cell_type": "code",
   "execution_count": null,
   "metadata": {},
   "outputs": [],
   "source": []
  }
 ],
 "metadata": {
  "kernelspec": {
   "display_name": "Python 3",
   "language": "python",
   "name": "python3"
  },
  "language_info": {
   "codemirror_mode": {
    "name": "ipython",
    "version": 3
   },
   "file_extension": ".py",
   "mimetype": "text/x-python",
   "name": "python",
   "nbconvert_exporter": "python",
   "pygments_lexer": "ipython3",
   "version": "3.6.9"
  }
 },
 "nbformat": 4,
 "nbformat_minor": 2
}
